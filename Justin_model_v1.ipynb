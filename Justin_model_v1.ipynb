{
 "cells": [
  {
   "cell_type": "code",
   "execution_count": 2,
   "metadata": {},
   "outputs": [],
   "source": [
    "# Author: Justin Collier\n",
    "# Date Created: 5/29/2024\n",
    "# Last Altered: 5/29/2024\n",
    "\n",
    "# Library Imports\n",
    "\n",
    "# Data manipulation libraries\n",
    "import pandas as pd\n",
    "import numpy as np\n",
    "\n",
    "# Counter\n",
    "from collections import Counter\n",
    "\n",
    "# ML libraries\n",
    "from sklearn.model_selection import train_test_split\n",
    "from sklearn.linear_model import LinearRegression\n",
    "from sklearn.metrics import mean_squared_error\n",
    "from sklearn.preprocessing import StandardScaler\n",
    "from sklearn.model_selection import train_test_split\n",
    "from sklearn.linear_model import LogisticRegression\n",
    "from sklearn.metrics import accuracy_score"
   ]
  },
  {
   "cell_type": "markdown",
   "metadata": {},
   "source": [
    "# Dataset Preparation"
   ]
  },
  {
   "cell_type": "code",
   "execution_count": 5,
   "metadata": {},
   "outputs": [
    {
     "name": "stdout",
     "output_type": "stream",
     "text": [
      "<class 'pandas.core.frame.DataFrame'>\n",
      "RangeIndex: 569 entries, 0 to 568\n",
      "Data columns (total 32 columns):\n",
      " #   Column     Non-Null Count  Dtype  \n",
      "---  ------     --------------  -----  \n",
      " 0   ID         569 non-null    int64  \n",
      " 1   Class      569 non-null    object \n",
      " 2   Feature1   569 non-null    float64\n",
      " 3   Feature2   569 non-null    float64\n",
      " 4   Feature3   569 non-null    float64\n",
      " 5   Feature4   569 non-null    float64\n",
      " 6   Feature5   569 non-null    float64\n",
      " 7   Feature6   569 non-null    float64\n",
      " 8   Feature7   569 non-null    float64\n",
      " 9   Feature8   569 non-null    float64\n",
      " 10  Feature9   569 non-null    float64\n",
      " 11  Feature10  569 non-null    float64\n",
      " 12  Feature11  569 non-null    float64\n",
      " 13  Feature12  569 non-null    float64\n",
      " 14  Feature13  569 non-null    float64\n",
      " 15  Feature14  569 non-null    float64\n",
      " 16  Feature15  569 non-null    float64\n",
      " 17  Feature16  569 non-null    float64\n",
      " 18  Feature17  569 non-null    float64\n",
      " 19  Feature18  569 non-null    float64\n",
      " 20  Feature19  569 non-null    float64\n",
      " 21  Feature20  569 non-null    float64\n",
      " 22  Feature21  569 non-null    float64\n",
      " 23  Feature22  569 non-null    float64\n",
      " 24  Feature23  569 non-null    float64\n",
      " 25  Feature24  569 non-null    float64\n",
      " 26  Feature25  569 non-null    float64\n",
      " 27  Feature26  569 non-null    float64\n",
      " 28  Feature27  569 non-null    float64\n",
      " 29  Feature28  569 non-null    float64\n",
      " 30  Feature29  569 non-null    float64\n",
      " 31  Feature30  569 non-null    float64\n",
      "dtypes: float64(30), int64(1), object(1)\n",
      "memory usage: 142.4+ KB\n"
     ]
    }
   ],
   "source": [
    "# Load the dataset\n",
    "\n",
    "# Creating our own labels for the dataset based on the info provided from the source.\n",
    "column_names = ['ID', 'Class', 'Feature1', 'Feature2', 'Feature3', 'Feature4', 'Feature5', 'Feature6', \n",
    "                'Feature7', 'Feature8', 'Feature9', 'Feature10', 'Feature11', 'Feature12', 'Feature13', \n",
    "                'Feature14', 'Feature15', 'Feature16', 'Feature17', 'Feature18', 'Feature19', 'Feature20', \n",
    "                'Feature21', 'Feature22', 'Feature23', 'Feature24', 'Feature25', 'Feature26', 'Feature27', \n",
    "                'Feature28', 'Feature29', 'Feature30']\n",
    "\n",
    "# Reading our dataset and assigning the labels\n",
    "datafile = pd.read_csv(\"./wdbc.data\", names=column_names, delimiter=',')\n",
    "\n",
    "# Display info for all fields I.E. Column & Data Type\n",
    "datafile.info()\n",
    "\n",
    "# 1) - ID number\n",
    "# 2) - Diagnosis (M = malignant, B = benign)\n",
    "# 3-32) - Ten real-valued features are computed for each cell nucle"
   ]
  },
  {
   "cell_type": "code",
   "execution_count": 6,
   "metadata": {},
   "outputs": [
    {
     "ename": "NameError",
     "evalue": "name 'df' is not defined",
     "output_type": "error",
     "traceback": [
      "\u001b[1;31m---------------------------------------------------------------------------\u001b[0m",
      "\u001b[1;31mNameError\u001b[0m                                 Traceback (most recent call last)",
      "Cell \u001b[1;32mIn[6], line 2\u001b[0m\n\u001b[0;32m      1\u001b[0m \u001b[38;5;66;03m# Preprocess the data\u001b[39;00m\n\u001b[1;32m----> 2\u001b[0m X \u001b[38;5;241m=\u001b[39m \u001b[43mdf\u001b[49m\u001b[38;5;241m.\u001b[39mdrop([\u001b[38;5;124m'\u001b[39m\u001b[38;5;124mID\u001b[39m\u001b[38;5;124m'\u001b[39m, \u001b[38;5;124m'\u001b[39m\u001b[38;5;124mClass\u001b[39m\u001b[38;5;124m'\u001b[39m], axis\u001b[38;5;241m=\u001b[39m\u001b[38;5;241m1\u001b[39m)\n\u001b[0;32m      3\u001b[0m y \u001b[38;5;241m=\u001b[39m df[\u001b[38;5;124m'\u001b[39m\u001b[38;5;124mClass\u001b[39m\u001b[38;5;124m'\u001b[39m]\u001b[38;5;241m.\u001b[39mmap({\u001b[38;5;124m'\u001b[39m\u001b[38;5;124mM\u001b[39m\u001b[38;5;124m'\u001b[39m: \u001b[38;5;241m1\u001b[39m, \u001b[38;5;124m'\u001b[39m\u001b[38;5;124mB\u001b[39m\u001b[38;5;124m'\u001b[39m: \u001b[38;5;241m0\u001b[39m})\n\u001b[0;32m      5\u001b[0m \u001b[38;5;66;03m# Split the dataset into training and testing sets\u001b[39;00m\n",
      "\u001b[1;31mNameError\u001b[0m: name 'df' is not defined"
     ]
    }
   ],
   "source": [
    "# Preprocess the data\n",
    "X = datafile.drop(['ID', 'Class'], axis=1)\n",
    "y = datafile['Class'].map({'M': 1, 'B': 0})\n",
    "\n",
    "# Split the dataset into training and testing sets\n",
    "X_train, X_test, y_train, y_test = train_test_split(X, y, test_size=0.2, random_state=42)"
   ]
  }
 ],
 "metadata": {
  "kernelspec": {
   "display_name": "Python 3",
   "language": "python",
   "name": "python3"
  },
  "language_info": {
   "codemirror_mode": {
    "name": "ipython",
    "version": 3
   },
   "file_extension": ".py",
   "mimetype": "text/x-python",
   "name": "python",
   "nbconvert_exporter": "python",
   "pygments_lexer": "ipython3",
   "version": "3.10.11"
  }
 },
 "nbformat": 4,
 "nbformat_minor": 2
}
